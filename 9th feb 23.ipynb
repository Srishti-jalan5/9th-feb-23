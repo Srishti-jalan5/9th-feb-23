{
 "cells": [
  {
   "cell_type": "code",
   "execution_count": 32,
   "id": "f15e91f1-e7bf-4deb-a4a7-19849ef91eaf",
   "metadata": {},
   "outputs": [],
   "source": [
    "#Q1\n",
    "class vehicle:\n",
    "    def __init__(self, name_of_vehicle, max_speed,average_of_vehicle):\n",
    "        self.name_of_vehicle = name_of_vehicle\n",
    "        self.max_speed = max_speed\n",
    "        self.average_of_vehicle = average_of_vehicle"
   ]
  },
  {
   "cell_type": "code",
   "execution_count": 33,
   "id": "65498470-589b-43f1-ae3a-c216e499f73d",
   "metadata": {},
   "outputs": [],
   "source": [
    "c = vehicle(\"Audi\", 180, 70)"
   ]
  },
  {
   "cell_type": "code",
   "execution_count": 34,
   "id": "0e3e70c7-eeb6-4d1d-90ec-236c3bb49974",
   "metadata": {},
   "outputs": [
    {
     "data": {
      "text/plain": [
       "180"
      ]
     },
     "execution_count": 34,
     "metadata": {},
     "output_type": "execute_result"
    }
   ],
   "source": [
    "c.max_speed"
   ]
  },
  {
   "cell_type": "code",
   "execution_count": 38,
   "id": "8957e77b-68f2-44cc-a6d7-6968f7a2600e",
   "metadata": {},
   "outputs": [],
   "source": [
    "#Q2\n",
    "\n",
    "class car(vehicle):\n",
    "    \n",
    "    def seating_capacity(self, capacity):\n",
    "        return self.capacity, self.name_of_vehicle"
   ]
  },
  {
   "cell_type": "code",
   "execution_count": 39,
   "id": "0a84a669-09ef-48cf-8289-4441f1ec375a",
   "metadata": {},
   "outputs": [],
   "source": [
    "d=car(\"Audi\", 400, 300)"
   ]
  },
  {
   "cell_type": "code",
   "execution_count": 40,
   "id": "951cbf5a-6e08-47a3-acbe-8631c84c035c",
   "metadata": {},
   "outputs": [
    {
     "ename": "AttributeError",
     "evalue": "'car' object has no attribute 'capacity'",
     "output_type": "error",
     "traceback": [
      "\u001b[0;31m---------------------------------------------------------------------------\u001b[0m",
      "\u001b[0;31mAttributeError\u001b[0m                            Traceback (most recent call last)",
      "Cell \u001b[0;32mIn[40], line 1\u001b[0m\n\u001b[0;32m----> 1\u001b[0m \u001b[43md\u001b[49m\u001b[38;5;241;43m.\u001b[39;49m\u001b[43mseating_capacity\u001b[49m\u001b[43m(\u001b[49m\u001b[38;5;241;43m200\u001b[39;49m\u001b[43m)\u001b[49m\n",
      "Cell \u001b[0;32mIn[38], line 6\u001b[0m, in \u001b[0;36mcar.seating_capacity\u001b[0;34m(self, capacity)\u001b[0m\n\u001b[1;32m      5\u001b[0m \u001b[38;5;28;01mdef\u001b[39;00m \u001b[38;5;21mseating_capacity\u001b[39m(\u001b[38;5;28mself\u001b[39m, capacity):\n\u001b[0;32m----> 6\u001b[0m     \u001b[38;5;28;01mreturn\u001b[39;00m \u001b[38;5;28;43mself\u001b[39;49m\u001b[38;5;241;43m.\u001b[39;49m\u001b[43mcapacity\u001b[49m, \u001b[38;5;28mself\u001b[39m\u001b[38;5;241m.\u001b[39mname_of_vehicle\n",
      "\u001b[0;31mAttributeError\u001b[0m: 'car' object has no attribute 'capacity'"
     ]
    }
   ],
   "source": [
    "d.seating_capacity(200)"
   ]
  },
  {
   "cell_type": "code",
   "execution_count": 42,
   "id": "40efc4ac-5735-452a-807d-46e1aff76543",
   "metadata": {},
   "outputs": [
    {
     "name": "stdout",
     "output_type": "stream",
     "text": [
      "Dad sings well\n",
      "Mom codes well\n",
      "Kid loves to play\n"
     ]
    }
   ],
   "source": [
    "#Q3\n",
    "#When a child class is derived or inherit the properties from multiple classes is called multiple inheritance.\n",
    "\n",
    "class Dad():\n",
    "\t# writing a method for parent class 1\n",
    "\tdef singing(self):\n",
    "\t\tprint(\"Dad sings well\")\n",
    "\t\t\n",
    "# creating a class for mother\n",
    "class Mom():\n",
    "\tdef coding(self):\n",
    "\t\tprint(\"Mom codes well\")\n",
    "\n",
    "# creating derived class\n",
    "class Child(Dad, Mom):\n",
    "\tdef play(self):\n",
    "\t\tprint(\"Kid loves to play\")\n",
    "\n",
    "child = Child()\n",
    "child.singing()\n",
    "child.coding()\n",
    "child.play()\t"
   ]
  },
  {
   "cell_type": "code",
   "execution_count": 43,
   "id": "b0841e44-6b5b-43a3-a2c1-943a4461bd12",
   "metadata": {},
   "outputs": [],
   "source": [
    "#Q4\n",
    "#Getter method allows us to get the value of an attribute in a class. \n",
    "#Setter method allows you to set or mutate the value of an attribute in a class.\n",
    "\n",
    "class Ice_cream:\n",
    "    def __init__(self, choco, vanilla, mango):\n",
    "        self.choco = choco\n",
    "        self.vanilla = vanilla\n",
    "        self.mango = mango\n",
    "        \n",
    "    def setter(self, value):\n",
    "        self.choco = value\n",
    "    \n",
    "    def getter(self):\n",
    "        return self.choco"
   ]
  },
  {
   "cell_type": "code",
   "execution_count": 44,
   "id": "fc2b7232-a7cc-4ed8-bb50-2ccbcfc13a34",
   "metadata": {},
   "outputs": [],
   "source": [
    "d=Ice_cream(3, 4, 6)"
   ]
  },
  {
   "cell_type": "code",
   "execution_count": 45,
   "id": "519a9a27-2244-46f8-8a56-2b5da3f23fff",
   "metadata": {},
   "outputs": [
    {
     "data": {
      "text/plain": [
       "3"
      ]
     },
     "execution_count": 45,
     "metadata": {},
     "output_type": "execute_result"
    }
   ],
   "source": [
    "d.choco"
   ]
  },
  {
   "cell_type": "code",
   "execution_count": 46,
   "id": "86f4bfc8-26e0-4e1c-91ca-07974e06e9b3",
   "metadata": {},
   "outputs": [],
   "source": [
    "d.setter(5)"
   ]
  },
  {
   "cell_type": "code",
   "execution_count": 47,
   "id": "06728131-188a-4a57-ac1b-fd2da1a1c026",
   "metadata": {},
   "outputs": [
    {
     "data": {
      "text/plain": [
       "5"
      ]
     },
     "execution_count": 47,
     "metadata": {},
     "output_type": "execute_result"
    }
   ],
   "source": [
    "d.choco"
   ]
  },
  {
   "cell_type": "code",
   "execution_count": 50,
   "id": "82fd8d58-9358-484e-9e01-b573f4b940de",
   "metadata": {},
   "outputs": [],
   "source": [
    "#Q5\n",
    "#when a child  class has the method which is already defined in a parent class.\n",
    "\n",
    "class Shape:\n",
    "    def square(self):\n",
    "        print(\"I am square method from shape(parent class)\")\n",
    "        \n",
    "    def circle(self):\n",
    "        print(\"Iam circle from shapre class\")\n",
    "        \n",
    "class child(Shape):\n",
    "    def square(self):\n",
    "        print(\"I am square method from child class\")\n",
    "    \n",
    "    def rect(self):\n",
    "        print(\"I am a rectangle method from child class\")"
   ]
  },
  {
   "cell_type": "code",
   "execution_count": 51,
   "id": "a717e2bb-6389-4c8a-9d47-5769373cd799",
   "metadata": {},
   "outputs": [],
   "source": [
    "shape = child()"
   ]
  },
  {
   "cell_type": "code",
   "execution_count": 54,
   "id": "10798a3a-07bb-4158-acbb-77f2eb76dbd1",
   "metadata": {},
   "outputs": [
    {
     "name": "stdout",
     "output_type": "stream",
     "text": [
      "I am square method from child class\n",
      "I am a rectangle method from child class\n",
      "Iam circle from shapre class\n"
     ]
    }
   ],
   "source": [
    "shape.square()\n",
    "shape.rect()\n",
    "shape.circle()"
   ]
  },
  {
   "cell_type": "code",
   "execution_count": null,
   "id": "f203eee0-896b-44bc-bf4d-6d771573e47e",
   "metadata": {},
   "outputs": [],
   "source": []
  }
 ],
 "metadata": {
  "kernelspec": {
   "display_name": "Python 3 (ipykernel)",
   "language": "python",
   "name": "python3"
  },
  "language_info": {
   "codemirror_mode": {
    "name": "ipython",
    "version": 3
   },
   "file_extension": ".py",
   "mimetype": "text/x-python",
   "name": "python",
   "nbconvert_exporter": "python",
   "pygments_lexer": "ipython3",
   "version": "3.10.8"
  }
 },
 "nbformat": 4,
 "nbformat_minor": 5
}
